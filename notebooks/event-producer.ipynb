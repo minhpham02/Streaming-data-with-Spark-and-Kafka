{
 "cells": [
  {
   "cell_type": "markdown",
   "metadata": {},
   "source": [
    "# Install Libraries"
   ]
  },
  {
   "cell_type": "code",
   "execution_count": 1,
   "metadata": {},
   "outputs": [
    {
     "name": "stdout",
     "output_type": "stream",
     "text": [
      "Requirement already satisfied: sseclient in c:\\users\\admin\\appdata\\local\\programs\\python\\python310\\lib\\site-packages (0.0.27)\n",
      "Requirement already satisfied: requests>=2.9 in c:\\users\\admin\\appdata\\local\\programs\\python\\python310\\lib\\site-packages (from sseclient) (2.31.0)\n",
      "Requirement already satisfied: six in c:\\users\\admin\\appdata\\roaming\\python\\python310\\site-packages (from sseclient) (1.16.0)\n",
      "Requirement already satisfied: charset-normalizer<4,>=2 in c:\\users\\admin\\appdata\\local\\programs\\python\\python310\\lib\\site-packages (from requests>=2.9->sseclient) (3.1.0)\n",
      "Requirement already satisfied: idna<4,>=2.5 in c:\\users\\admin\\appdata\\local\\programs\\python\\python310\\lib\\site-packages (from requests>=2.9->sseclient) (3.4)\n",
      "Requirement already satisfied: urllib3<3,>=1.21.1 in c:\\users\\admin\\appdata\\local\\programs\\python\\python310\\lib\\site-packages (from requests>=2.9->sseclient) (1.26.12)\n",
      "Requirement already satisfied: certifi>=2017.4.17 in c:\\users\\admin\\appdata\\local\\programs\\python\\python310\\lib\\site-packages (from requests>=2.9->sseclient) (2022.9.24)\n"
     ]
    },
    {
     "name": "stderr",
     "output_type": "stream",
     "text": [
      "\n",
      "[notice] A new release of pip is available: 24.0 -> 24.2\n",
      "[notice] To update, run: python.exe -m pip install --upgrade pip\n"
     ]
    }
   ],
   "source": [
    "!pip install sseclient"
   ]
  },
  {
   "cell_type": "code",
   "execution_count": 2,
   "metadata": {},
   "outputs": [
    {
     "name": "stdout",
     "output_type": "stream",
     "text": [
      "Requirement already satisfied: kafka-python in c:\\users\\admin\\appdata\\local\\programs\\python\\python310\\lib\\site-packages (2.0.2)\n"
     ]
    },
    {
     "name": "stderr",
     "output_type": "stream",
     "text": [
      "\n",
      "[notice] A new release of pip is available: 24.0 -> 24.2\n",
      "[notice] To update, run: python.exe -m pip install --upgrade pip\n"
     ]
    }
   ],
   "source": [
    "!pip install kafka-python"
   ]
  },
  {
   "cell_type": "markdown",
   "metadata": {},
   "source": [
    "# Event producer"
   ]
  },
  {
   "cell_type": "code",
   "execution_count": 7,
   "metadata": {},
   "outputs": [
    {
     "ename": "KafkaTimeoutError",
     "evalue": "KafkaTimeoutError: Failed to update metadata after 60.0 secs.",
     "output_type": "error",
     "traceback": [
      "\u001b[1;31m---------------------------------------------------------------------------\u001b[0m",
      "\u001b[1;31mKafkaTimeoutError\u001b[0m                         Traceback (most recent call last)",
      "Cell \u001b[1;32mIn [7], line 22\u001b[0m\n\u001b[0;32m     19\u001b[0m                 \u001b[38;5;28;01mpass\u001b[39;00m\n\u001b[0;32m     20\u001b[0m             \u001b[38;5;28;01melse\u001b[39;00m:\n\u001b[0;32m     21\u001b[0m                 \u001b[38;5;66;03m#Send msg to topic wiki-changes\u001b[39;00m\n\u001b[1;32m---> 22\u001b[0m                 \u001b[43mproducer\u001b[49m\u001b[38;5;241;43m.\u001b[39;49m\u001b[43msend\u001b[49m\u001b[43m(\u001b[49m\u001b[38;5;124;43m'\u001b[39;49m\u001b[38;5;124;43mwiki-changes\u001b[39;49m\u001b[38;5;124;43m'\u001b[39;49m\u001b[43m,\u001b[49m\u001b[43m \u001b[49m\u001b[43mchange\u001b[49m\u001b[43m)\u001b[49m\n\u001b[0;32m     24\u001b[0m \u001b[38;5;28;01mexcept\u001b[39;00m \u001b[38;5;167;01mKeyboardInterrupt\u001b[39;00m:\n\u001b[0;32m     25\u001b[0m     \u001b[38;5;28mprint\u001b[39m(\u001b[38;5;124m\"\u001b[39m\u001b[38;5;124mprocess interrupted\u001b[39m\u001b[38;5;124m\"\u001b[39m)\n",
      "File \u001b[1;32mc:\\Users\\ADMIN\\AppData\\Local\\Programs\\Python\\Python310\\lib\\site-packages\\kafka\\producer\\kafka.py:576\u001b[0m, in \u001b[0;36mKafkaProducer.send\u001b[1;34m(self, topic, value, key, headers, partition, timestamp_ms)\u001b[0m\n\u001b[0;32m    574\u001b[0m key_bytes \u001b[38;5;241m=\u001b[39m value_bytes \u001b[38;5;241m=\u001b[39m \u001b[38;5;28;01mNone\u001b[39;00m\n\u001b[0;32m    575\u001b[0m \u001b[38;5;28;01mtry\u001b[39;00m:\n\u001b[1;32m--> 576\u001b[0m     \u001b[38;5;28;43mself\u001b[39;49m\u001b[38;5;241;43m.\u001b[39;49m\u001b[43m_wait_on_metadata\u001b[49m\u001b[43m(\u001b[49m\u001b[43mtopic\u001b[49m\u001b[43m,\u001b[49m\u001b[43m \u001b[49m\u001b[38;5;28;43mself\u001b[39;49m\u001b[38;5;241;43m.\u001b[39;49m\u001b[43mconfig\u001b[49m\u001b[43m[\u001b[49m\u001b[38;5;124;43m'\u001b[39;49m\u001b[38;5;124;43mmax_block_ms\u001b[39;49m\u001b[38;5;124;43m'\u001b[39;49m\u001b[43m]\u001b[49m\u001b[43m \u001b[49m\u001b[38;5;241;43m/\u001b[39;49m\u001b[43m \u001b[49m\u001b[38;5;241;43m1000.0\u001b[39;49m\u001b[43m)\u001b[49m\n\u001b[0;32m    578\u001b[0m     key_bytes \u001b[38;5;241m=\u001b[39m \u001b[38;5;28mself\u001b[39m\u001b[38;5;241m.\u001b[39m_serialize(\n\u001b[0;32m    579\u001b[0m         \u001b[38;5;28mself\u001b[39m\u001b[38;5;241m.\u001b[39mconfig[\u001b[38;5;124m'\u001b[39m\u001b[38;5;124mkey_serializer\u001b[39m\u001b[38;5;124m'\u001b[39m],\n\u001b[0;32m    580\u001b[0m         topic, key)\n\u001b[0;32m    581\u001b[0m     value_bytes \u001b[38;5;241m=\u001b[39m \u001b[38;5;28mself\u001b[39m\u001b[38;5;241m.\u001b[39m_serialize(\n\u001b[0;32m    582\u001b[0m         \u001b[38;5;28mself\u001b[39m\u001b[38;5;241m.\u001b[39mconfig[\u001b[38;5;124m'\u001b[39m\u001b[38;5;124mvalue_serializer\u001b[39m\u001b[38;5;124m'\u001b[39m],\n\u001b[0;32m    583\u001b[0m         topic, value)\n",
      "File \u001b[1;32mc:\\Users\\ADMIN\\AppData\\Local\\Programs\\Python\\Python310\\lib\\site-packages\\kafka\\producer\\kafka.py:702\u001b[0m, in \u001b[0;36mKafkaProducer._wait_on_metadata\u001b[1;34m(self, topic, max_wait)\u001b[0m\n\u001b[0;32m    700\u001b[0m elapsed \u001b[38;5;241m=\u001b[39m time\u001b[38;5;241m.\u001b[39mtime() \u001b[38;5;241m-\u001b[39m begin\n\u001b[0;32m    701\u001b[0m \u001b[38;5;28;01mif\u001b[39;00m \u001b[38;5;129;01mnot\u001b[39;00m metadata_event\u001b[38;5;241m.\u001b[39mis_set():\n\u001b[1;32m--> 702\u001b[0m     \u001b[38;5;28;01mraise\u001b[39;00m Errors\u001b[38;5;241m.\u001b[39mKafkaTimeoutError(\n\u001b[0;32m    703\u001b[0m         \u001b[38;5;124m\"\u001b[39m\u001b[38;5;124mFailed to update metadata after \u001b[39m\u001b[38;5;132;01m%.1f\u001b[39;00m\u001b[38;5;124m secs.\u001b[39m\u001b[38;5;124m\"\u001b[39m \u001b[38;5;241m%\u001b[39m (max_wait,))\n\u001b[0;32m    704\u001b[0m \u001b[38;5;28;01melif\u001b[39;00m topic \u001b[38;5;129;01min\u001b[39;00m \u001b[38;5;28mself\u001b[39m\u001b[38;5;241m.\u001b[39m_metadata\u001b[38;5;241m.\u001b[39munauthorized_topics:\n\u001b[0;32m    705\u001b[0m     \u001b[38;5;28;01mraise\u001b[39;00m Errors\u001b[38;5;241m.\u001b[39mTopicAuthorizationFailedError(topic)\n",
      "\u001b[1;31mKafkaTimeoutError\u001b[0m: KafkaTimeoutError: Failed to update metadata after 60.0 secs."
     ]
    }
   ],
   "source": [
    "import json\n",
    "from sseclient import SSEClient as EventSource\n",
    "from kafka import KafkaProducer\n",
    "\n",
    "# Create producer\n",
    "producer = KafkaProducer(\n",
    "    bootstrap_servers='kafka-server:9092', #Kafka server\n",
    "    value_serializer=lambda v: json.dumps(v).encode('utf-8') #json serializer\n",
    "    )\n",
    "\n",
    "# Read streaming event\n",
    "url = 'https://stream.wikimedia.org/v2/stream/recentchange'\n",
    "try:\n",
    "    for event in EventSource(url):\n",
    "        if event.event == 'message':\n",
    "            try:\n",
    "                change = json.loads(event.data)\n",
    "            except ValueError:\n",
    "                pass\n",
    "            else:\n",
    "                #Send msg to topic wiki-changes\n",
    "                producer.send('wiki-changes', change)\n",
    "\n",
    "except KeyboardInterrupt:\n",
    "    print(\"process interrupted\")"
   ]
  },
  {
   "cell_type": "code",
   "execution_count": null,
   "metadata": {},
   "outputs": [],
   "source": []
  }
 ],
 "metadata": {
  "kernelspec": {
   "display_name": "Python 3",
   "language": "python",
   "name": "python3"
  },
  "language_info": {
   "codemirror_mode": {
    "name": "ipython",
    "version": 3
   },
   "file_extension": ".py",
   "mimetype": "text/x-python",
   "name": "python",
   "nbconvert_exporter": "python",
   "pygments_lexer": "ipython3",
   "version": "3.10.5"
  }
 },
 "nbformat": 4,
 "nbformat_minor": 4
}
